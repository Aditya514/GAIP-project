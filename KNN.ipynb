{
 "cells": [
  {
   "cell_type": "code",
   "execution_count": 8,
   "metadata": {},
   "outputs": [
    {
     "name": "stdout",
     "output_type": "stream",
     "text": [
      "KNeighborsClassifier(algorithm='auto', leaf_size=30, metric='minkowski',\n",
      "           metric_params=None, n_jobs=1, n_neighbors=11, p=2,\n",
      "           weights='uniform')\n"
     ]
    },
    {
     "data": {
      "text/plain": [
       "0.7133333333333334"
      ]
     },
     "execution_count": 8,
     "metadata": {},
     "output_type": "execute_result"
    }
   ],
   "source": [
    "import numpy as np\n",
    "from sklearn.neighbors import NearestNeighbors\n",
    "from sklearn.model_selection import train_test_split\n",
    "from sklearn.neighbors import KNeighborsClassifier\n",
    "import pandas as pd\n",
    "#dictionary with class labels as keys\n",
    "genre_class = {'classical':0, 'reggae':1, 'blues':2, 'pop':3, 'hiphop':4, 'metal':5}\n",
    "\n",
    "#load the dataset\n",
    "my_ds=pd.read_csv('project_final.csv')\n",
    "\n",
    "#add a column 'genre_num' to represent genre as numeric variable \n",
    "my_ds['genre_num'] = [genre_class[i] for i in my_ds.genre]\n",
    "\n",
    "#predictors\n",
    "X = my_ds.drop(['genre', 'genre_num'], axis=1)\n",
    "#response variable\n",
    "y=my_ds.genre_num\n",
    "## Split data into training and testing sets.\n",
    "X_train, X_test, y_train, y_test = train_test_split(X, y, random_state=42)\n",
    "\n",
    "\n",
    "## Instantiate the model with 'n_neighbors' neighbors. \n",
    "knn = KNeighborsClassifier(n_neighbors=11\n",
    "                          )\n",
    "print (knn)\n",
    "\n",
    "\n",
    "## Fit the model on the training data.\n",
    "knn.fit(X_train, y_train)\n",
    "#knn.score(X_train, y_train)\n",
    "knn.score(X_test, y_test)"
   ]
  },
  {
   "cell_type": "code",
   "execution_count": 2,
   "metadata": {},
   "outputs": [
    {
     "data": {
      "text/plain": [
       "'C:\\\\Users\\\\lenovo\\\\Downloads'"
      ]
     },
     "execution_count": 2,
     "metadata": {},
     "output_type": "execute_result"
    }
   ],
   "source": [
    "pwd"
   ]
  }
 ],
 "metadata": {
  "kernelspec": {
   "display_name": "Python 3",
   "language": "python",
   "name": "python3"
  },
  "language_info": {
   "codemirror_mode": {
    "name": "ipython",
    "version": 3
   },
   "file_extension": ".py",
   "mimetype": "text/x-python",
   "name": "python",
   "nbconvert_exporter": "python",
   "pygments_lexer": "ipython3",
   "version": "3.7.0"
  }
 },
 "nbformat": 4,
 "nbformat_minor": 2
}
