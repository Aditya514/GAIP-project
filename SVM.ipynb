{
 "cells": [
  {
   "cell_type": "code",
   "execution_count": 3,
   "metadata": {},
   "outputs": [
    {
     "name": "stdout",
     "output_type": "stream",
     "text": [
      "LinearSVC(C=1.0, class_weight=None, dual=True, fit_intercept=True,\n",
      "     intercept_scaling=1, loss='squared_hinge', max_iter=5000,\n",
      "     multi_class='ovr', penalty='l2', random_state=None, tol=0.0001,\n",
      "     verbose=0)\n",
      "Training Accuracy 0.7822222222222223\n",
      "Training Confusion = [[80  2  5  0  0  0]\n",
      " [ 0 29  3  4  3  0]\n",
      " [ 0 11 52  0  4  5]\n",
      " [ 0 12  0 65  8  0]\n",
      " [ 1  9  1  4 51  2]\n",
      " [ 0  2 13  0  9 75]]\n",
      "             precision    recall  f1-score   support\n",
      "\n",
      "          0       0.92      0.99      0.95        81\n",
      "          1       0.74      0.45      0.56        65\n",
      "          2       0.72      0.70      0.71        74\n",
      "          3       0.76      0.89      0.82        73\n",
      "          4       0.75      0.68      0.71        75\n",
      "          5       0.76      0.91      0.83        82\n",
      "\n",
      "avg / total       0.78      0.78      0.77       450\n",
      "\n",
      "========================================================\n",
      "Test Accuracy 0.7066666666666667\n",
      "Test Confusion = [[19  1  3  0  0  0]\n",
      " [ 0 14  0  0  0  0]\n",
      " [ 0  6 18  0  2  1]\n",
      " [ 0  5  0 24  5  0]\n",
      " [ 0  9  1  3 14  0]\n",
      " [ 0  0  4  0  4 17]]\n",
      "             precision    recall  f1-score   support\n",
      "\n",
      "          0       0.83      1.00      0.90        19\n",
      "          1       1.00      0.40      0.57        35\n",
      "          2       0.67      0.69      0.68        26\n",
      "          3       0.71      0.89      0.79        27\n",
      "          4       0.52      0.56      0.54        25\n",
      "          5       0.68      0.94      0.79        18\n",
      "\n",
      "avg / total       0.75      0.71      0.69       150\n",
      "\n"
     ]
    }
   ],
   "source": [
    "#SVM\n",
    "import random\n",
    "\n",
    "import numpy as np\n",
    "import pandas as pd\n",
    "\n",
    "from sklearn.model_selection import train_test_split\n",
    "from sklearn.svm import LinearSVC\n",
    "from sklearn import metrics\n",
    "from sklearn.metrics import classification_report\n",
    "\n",
    "\n",
    "\n",
    "random.seed()\n",
    "\n",
    "df = pd.read_csv('project_final.csv')\n",
    "df['genre'] = np.where(df['genre']==\"classical\",0,np.where(df['genre']==\"reggae\",1,np.where(df['genre']==\"blues\",2,np.where(df['genre']==\"pop\",3,np.where(df['genre']==\"hiphop\",4,5)))))\n",
    "\n",
    "independent_variables = df.drop('genre', axis=1)\n",
    "x = independent_variables.values\n",
    "y = df['genre'].values\n",
    "\n",
    "x_train, x_test, y_train, y_test = train_test_split(x, y, train_size = 0.75, test_size = 0.25, random_state = random.randrange(99999), shuffle = True)\n",
    "\n",
    "svc = LinearSVC(max_iter=5000)\n",
    "svc.fit(x_train, y_train)\n",
    "y_pred_train = svc.predict(x_train)\n",
    "y_pred_test = svc.predict(x_test)\n",
    "\n",
    "print(svc)\n",
    "\n",
    "print('Training Accuracy {}'.format(svc.score(x_train, y_train)))\n",
    "print('Training Confusion = {}'.format(metrics.confusion_matrix(y_pred_train, y_train, [0,1,2,3,4,5])))\n",
    "print(classification_report(y_train, y_pred_train))\n",
    "print('========================================================')\n",
    "print('Test Accuracy {}'.format(svc.score(x_test, y_test)))\n",
    "print('Test Confusion = {}'.format(metrics.confusion_matrix(y_pred_test, y_test, [0,1,2,3,4,5])))\n",
    "print(classification_report(y_test, y_pred_test))"
   ]
  },
  {
   "cell_type": "code",
   "execution_count": 5,
   "metadata": {},
   "outputs": [],
   "source": [
    "import matplotlib.pyplot as plt\n",
    "cmap=plt.cm.Blues\n",
    "import seaborn as sn"
   ]
  },
  {
   "cell_type": "code",
   "execution_count": 8,
   "metadata": {},
   "outputs": [
    {
     "name": "stdout",
     "output_type": "stream",
     "text": [
      "\u001b[1m\n",
      "\t\t  Training Data\n"
     ]
    },
    {
     "data": {
      "image/png": "[encoded data removed]",
      "text/plain": [
       "<Figure size 432x288 with 2 Axes>"
      ]
     },
     "metadata": {
      "needs_background": "light"
     },
     "output_type": "display_data"
    }
   ],
   "source": [
    "df_cm_test=metrics.confusion_matrix(y_pred_train, y_train, [0,1,2,3,4,5])\n",
    "plot_labels=['classical','reggae','blues','pop','hiphop','metal']\n",
    "print('\\033[1m'+\"\\n\\t\\t  Training Data\")\n",
    "gra=sn.heatmap(df_cm_test,cmap=cmap,linecolor=\"#000000\",linewidth=1,annot=True,xticklabels=plot_labels,yticklabels=plot_labels)"
   ]
  },
  {
   "cell_type": "code",
   "execution_count": 7,
   "metadata": {},
   "outputs": [
    {
     "name": "stdout",
     "output_type": "stream",
     "text": [
      "\u001b[1m\n",
      "\t\t  Testing Data\n"
     ]
    },
    {
     "data": {
      "image/png": "[encoded data removed]",
      "text/plain": [
       "<Figure size 432x288 with 2 Axes>"
      ]
     },
     "metadata": {
      "needs_background": "light"
     },
     "output_type": "display_data"
    }
   ],
   "source": [
    "df_cm_test=metrics.confusion_matrix(y_pred_test, y_test, [0,1,2,3,4,5])\n",
    "plot_labels=['classical','reggae','blues','pop','hiphop','metal']\n",
    "print('\\033[1m'+\"\\n\\t\\t  Testing Data\")\n",
    "gra=sn.heatmap(df_cm_test,cmap=cmap,linecolor=\"#000000\",linewidth=1,annot=True,xticklabels=plot_labels,yticklabels=plot_labels)"
   ]
  },
  {
   "cell_type": "code",
   "execution_count": 16,
   "metadata": {},
   "outputs": [],
   "source": [
    "#naivebayes\n"
   ]
  },
  {
   "cell_type": "code",
   "execution_count": null,
   "metadata": {},
   "outputs": [],
   "source": []
  }
 ],
 "metadata": {
  "kernelspec": {
   "display_name": "Python 3",
   "language": "python",
   "name": "python3"
  },
  "language_info": {
   "codemirror_mode": {
    "name": "ipython",
    "version": 3
   },
   "file_extension": ".py",
   "mimetype": "text/x-python",
   "name": "python",
   "nbconvert_exporter": "python",
   "pygments_lexer": "ipython3",
   "version": "3.7.0"
  }
 },
 "nbformat": 4,
 "nbformat_minor": 2
}
