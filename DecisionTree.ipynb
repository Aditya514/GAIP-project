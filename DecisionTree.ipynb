{
 "cells": [
  {
   "cell_type": "code",
   "execution_count": 11,
   "metadata": {},
   "outputs": [
    {
     "name": "stdout",
     "output_type": "stream",
     "text": [
      "DecisionTreeClassifier(class_weight=None, criterion='gini', max_depth=4,\n",
      "            max_features=None, max_leaf_nodes=None,\n",
      "            min_impurity_decrease=0.0, min_impurity_split=None,\n",
      "            min_samples_leaf=1, min_samples_split=2,\n",
      "            min_weight_fraction_leaf=0.0, presort=False, random_state=None,\n",
      "            splitter='best')\n",
      "Accuracy = 0.7033333333333334\n",
      "Confusion = [[83  0  1  2  0  0]\n",
      " [ 0 73  7  0  8  0]\n",
      " [12 22 59  4 22  2]\n",
      " [ 5  0 19 91  8 21]\n",
      " [ 0  5 13  1 61 22]\n",
      " [ 0  0  1  2  1 55]]\n"
     ]
    },
    {
     "data": {
      "text/plain": [
       "'Project Tree level=4.pdf'"
      ]
     },
     "execution_count": 11,
     "metadata": {},
     "output_type": "execute_result"
    }
   ],
   "source": [
    "#DecisonTrees\n",
    "import pandas as pd\n",
    "import numpy as np\n",
    "from sklearn import tree\n",
    "from sklearn import metrics\n",
    "import graphviz\n",
    "\n",
    "df = pd.read_csv('project_final.csv')\n",
    "\n",
    "independent_variables = df.drop('genre', axis=1).copy()\n",
    "\n",
    "x = independent_variables.values\n",
    "y = df['genre'].values\n",
    "\n",
    "clf = tree.DecisionTreeClassifier(criterion='gini', splitter='best',max_depth=4)\n",
    "clf = clf.fit(x, y)\n",
    "y_pred = clf.predict(x)\n",
    "\n",
    "print(clf)\n",
    "print('Accuracy = {}'.format(metrics.accuracy_score(y_pred, y)))\n",
    "print('Confusion = {}'.format(metrics.confusion_matrix(y_pred, y, ['classical','pop','reggae','blues','hiphop','metal'])))\n",
    "\n",
    "dot_data = tree.export_graphviz(clf, out_file=None, feature_names=['stdZCR','meanSpecCentroid','stdSpecCentroid','meanSpecContrast','stdSpecContrast','meanSpecBandwidth','meanSpecRollof','stdSpecRollof','meanMFCC_1','meanMFCC_3','stdMFCC_3','meanMFCC_5','stdMFCC_5','meanMFCC_7','meanMFCC_8'], \n",
    "\t\t\t\t\t\t\t\tclass_names=['classical','pop','reggae','blues','hiphop','metal'], filled=True, rounded=True, special_characters=True)\n",
    "graph = graphviz.Source(dot_data)\n",
    "graph.render(\"Project Tree level=4\")"
   ]
  },
  {
   "cell_type": "code",
   "execution_count": 2,
   "metadata": {},
   "outputs": [
    {
     "data": {
      "text/plain": [
       "'C:\\\\Users\\\\lenovo\\\\Downloads'"
      ]
     },
     "execution_count": 2,
     "metadata": {},
     "output_type": "execute_result"
    }
   ],
   "source": [
    "pwd\n"
   ]
  },
  {
   "cell_type": "code",
   "execution_count": 9,
   "metadata": {},
   "outputs": [],
   "source": [
    "import seaborn as sn\n",
    "import matplotlib.pyplot as plt\n",
    "cmap=plt.cm.Blues"
   ]
  },
  {
   "cell_type": "code",
   "execution_count": 10,
   "metadata": {},
   "outputs": [
    {
     "name": "stdout",
     "output_type": "stream",
     "text": [
      "\u001b[1m\n",
      "\t\t  Testing Data\n"
     ]
    },
    {
     "data": {
      "image/png": "[encoded data removed]",
      "text/plain": [
       "<Figure size 432x288 with 2 Axes>"
      ]
     },
     "metadata": {
      "needs_background": "light"
     },
     "output_type": "display_data"
    }
   ],
   "source": [
    "\n",
    "plot_labels=['classical','pop','reggae','blues','hiphop','metal']\n",
    "df_cm_test=metrics.confusion_matrix(y_pred, y, plot_labels)\n",
    "print('\\033[1m'+\"\\n\\t\\t  Testing Data\")\n",
    "gra=sn.heatmap(df_cm_test,cmap=cmap,linecolor=\"#000000\",linewidth=1,annot=True,xticklabels=plot_labels,yticklabels=plot_labels)"
   ]
  }
 ],
 "metadata": {
  "kernelspec": {
   "display_name": "Python 3",
   "language": "python",
   "name": "python3"
  },
  "language_info": {
   "codemirror_mode": {
    "name": "ipython",
    "version": 3
   },
   "file_extension": ".py",
   "mimetype": "text/x-python",
   "name": "python",
   "nbconvert_exporter": "python",
   "pygments_lexer": "ipython3",
   "version": "3.7.3"
  }
 },
 "nbformat": 4,
 "nbformat_minor": 2
}
