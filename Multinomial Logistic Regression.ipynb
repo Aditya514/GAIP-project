{
 "cells": [
  {
   "cell_type": "code",
   "execution_count": 2,
   "metadata": {},
   "outputs": [],
   "source": [
    "import random\n",
    "\n",
    "import numpy as np\n",
    "import pandas as pd\n",
    "\n",
    "from sklearn.model_selection import train_test_split\n",
    "from sklearn.linear_model import LogisticRegression\n",
    "from sklearn import metrics\n",
    "from sklearn.metrics import classification_report"
   ]
  },
  {
   "cell_type": "code",
   "execution_count": 3,
   "metadata": {},
   "outputs": [],
   "source": [
    "random.seed()"
   ]
  },
  {
   "cell_type": "code",
   "execution_count": 4,
   "metadata": {},
   "outputs": [],
   "source": [
    "df=pd.read_csv(\"project_final_num.csv\")"
   ]
  },
  {
   "cell_type": "code",
   "execution_count": 1,
   "metadata": {},
   "outputs": [
    {
     "data": {
      "text/plain": [
       "'C:\\\\Users\\\\lenovo\\\\Downloads'"
      ]
     },
     "execution_count": 1,
     "metadata": {},
     "output_type": "execute_result"
    }
   ],
   "source": [
    "pwd"
   ]
  },
  {
   "cell_type": "code",
   "execution_count": 5,
   "metadata": {},
   "outputs": [],
   "source": [
    "independent_variables = df.drop('genre', axis=1)"
   ]
  },
  {
   "cell_type": "code",
   "execution_count": 6,
   "metadata": {},
   "outputs": [],
   "source": [
    "x = independent_variables.values\n",
    "y = df['genre'].values"
   ]
  },
  {
   "cell_type": "code",
   "execution_count": 13,
   "metadata": {},
   "outputs": [],
   "source": [
    "x_train, x_test, y_train, y_test = train_test_split(x, y, train_size = 0.75, test_size = 0.25, random_state = random.randrange(99999), shuffle = True)"
   ]
  },
  {
   "cell_type": "code",
   "execution_count": 14,
   "metadata": {},
   "outputs": [],
   "source": [
    "lr = LogisticRegression(C=1e5, solver='newton-cg', multi_class='multinomial')"
   ]
  },
  {
   "cell_type": "code",
   "execution_count": 15,
   "metadata": {},
   "outputs": [
    {
     "name": "stdout",
     "output_type": "stream",
     "text": [
      "LogisticRegression(C=100000.0, class_weight=None, dual=False,\n",
      "          fit_intercept=True, intercept_scaling=1, max_iter=100,\n",
      "          multi_class='multinomial', n_jobs=1, penalty='l2',\n",
      "          random_state=None, solver='newton-cg', tol=0.0001, verbose=0,\n",
      "          warm_start=False)\n",
      "Coefficients =  [[ 7.12067632e-01 -8.26888936e+00  5.38048650e+00  3.48478217e+00\n",
      "   2.84026065e+00 -1.33882619e-01 -1.70888163e+00 -5.83665663e+00\n",
      "  -2.58466122e+00  1.92060178e+00  1.78916384e-01  1.50070232e+00\n",
      "   1.33198967e+00 -8.97575268e-01 -2.81618636e+00]\n",
      " [-4.17946303e+00  2.06972185e+01 -6.97251209e+00  6.61302259e+00\n",
      "  -4.28286322e+00 -8.36394359e+00 -1.24038833e+01  3.75300188e+00\n",
      "   1.42234794e+00 -4.51976975e+00 -6.54053041e+00 -1.78545333e+00\n",
      "  -8.62312101e+00 -5.70170167e+00 -2.08494816e-01]\n",
      " [ 5.25827684e-01 -1.55701841e+01  7.14490521e+00 -9.31256192e+00\n",
      "   5.44607943e+00  4.85585153e+00  6.38763602e+00 -5.50158495e+00\n",
      "  -6.30087904e+00 -1.02160252e+00  3.72527514e+00 -9.93296724e-01\n",
      "   1.67670750e+00  2.56847601e-01 -1.27390674e+00]\n",
      " [ 1.86737758e-02  1.85048179e+01 -1.07192307e+01 -4.71753950e+00\n",
      "   3.69521245e+00 -4.44184911e+00 -5.42793480e+00  1.22082586e+01\n",
      "   6.78895772e+00  9.55685515e+00 -1.69875658e+00  4.64135482e-02\n",
      "  -5.33948697e-02  3.58730770e+00  9.88664595e-01]\n",
      " [ 1.38180654e+00 -8.75754238e+00  3.41482656e+00  2.23231790e+00\n",
      "  -4.26347847e+00  1.14249356e+01  1.41359843e+00 -4.76879585e+00\n",
      "  -2.02957888e+00 -5.51711140e+00  2.40107979e+00 -1.88548100e+00\n",
      "   2.70928395e+00 -4.23999857e-01  3.00455831e+00]\n",
      " [ 1.54108739e+00 -6.60542051e+00  1.75152455e+00  1.69997876e+00\n",
      "  -3.43521084e+00 -3.34111183e+00  1.17394653e+01  1.45776932e-01\n",
      "   2.70381348e+00 -4.18973272e-01  1.93401567e+00  3.11711518e+00\n",
      "   2.95853476e+00  3.17912149e+00  3.05365006e-01]]\n",
      "Intercept =  [ 0.7060474  -8.21237996  3.15733259 -2.30572382  1.43804735  5.21667645]\n"
     ]
    }
   ],
   "source": [
    "lr.fit(x_train, y_train)\n",
    "y_pred_train = lr.predict(x_train)\n",
    "y_pred_test = lr.predict(x_test)\n",
    "\n",
    "print(lr)\n",
    "print('Coefficients = ', lr.coef_)\n",
    "print('Intercept = ', lr.intercept_)"
   ]
  },
  {
   "cell_type": "code",
   "execution_count": 16,
   "metadata": {},
   "outputs": [
    {
     "name": "stdout",
     "output_type": "stream",
     "text": [
      "Training Accuracy 0.8533333333333334\n",
      "Training Confusion = [[56  0  2  4  0  7]\n",
      " [ 1 73  0  0  0  1]\n",
      " [ 2  0 58  4  6  4]\n",
      " [ 5  0  2 73  0  0]\n",
      " [ 0  0  5  0 72  7]\n",
      " [ 4  1  8  0  3 52]]\n",
      "             precision    recall  f1-score   support\n",
      "\n",
      "          0       0.81      0.82      0.82        68\n",
      "          1       0.97      0.99      0.98        74\n",
      "          2       0.78      0.77      0.78        75\n",
      "          3       0.91      0.90      0.91        81\n",
      "          4       0.86      0.89      0.87        81\n",
      "          5       0.76      0.73      0.75        71\n",
      "\n",
      "avg / total       0.85      0.85      0.85       450\n",
      "\n",
      "========================================================\n",
      "Test Accuracy 0.7866666666666666\n",
      "Test Confusion = [[24  1  0  2  0  2]\n",
      " [ 2 25  0  0  0  0]\n",
      " [ 0  0 22  1  2  5]\n",
      " [ 6  0  1 16  0  0]\n",
      " [ 0  0  1  0 16  7]\n",
      " [ 0  0  1  0  1 15]]\n",
      "             precision    recall  f1-score   support\n",
      "\n",
      "          0       0.83      0.75      0.79        32\n",
      "          1       0.93      0.96      0.94        26\n",
      "          2       0.73      0.88      0.80        25\n",
      "          3       0.70      0.84      0.76        19\n",
      "          4       0.67      0.84      0.74        19\n",
      "          5       0.88      0.52      0.65        29\n",
      "\n",
      "avg / total       0.80      0.79      0.78       150\n",
      "\n"
     ]
    }
   ],
   "source": [
    "print('Training Accuracy {}'.format(lr.score(x_train, y_train)))\n",
    "print('Training Confusion = {}'.format(metrics.confusion_matrix(y_pred_train, y_train, [0,1,2,3,4,5])))\n",
    "print(classification_report(y_train, y_pred_train))\n",
    "print('========================================================')\n",
    "print('Test Accuracy {}'.format(lr.score(x_test, y_test)))\n",
    "print('Test Confusion = {}'.format(metrics.confusion_matrix(y_pred_test, y_test, [0,1,2,3,4,5])))\n",
    "print(classification_report(y_test, y_pred_test))"
   ]
  },
  {
   "cell_type": "code",
   "execution_count": 19,
   "metadata": {},
   "outputs": [
    {
     "name": "stdout",
     "output_type": "stream",
     "text": [
      "\u001b[1m\n",
      "\t\t  Training Data\n"
     ]
    },
    {
     "data": {
      "image/png": "[encoded data removed]",
      "text/plain": [
       "<Figure size 432x288 with 2 Axes>"
      ]
     },
     "metadata": {
      "needs_background": "light"
     },
     "output_type": "display_data"
    }
   ],
   "source": [
    "import matplotlib.pyplot as plt\n",
    "cmap=plt.cm.Blues\n",
    "import seaborn as sn\n",
    "df_cm_test=metrics.confusion_matrix(y_pred_train, y_train, [0,1,2,3,4,5])\n",
    "plot_labels=['classical','reggae','blues','pop','hiphop','metal']\n",
    "print('\\033[1m'+\"\\n\\t\\t  Training Data\")\n",
    "gra=sn.heatmap(df_cm_test,cmap=cmap,linecolor=\"#000000\",linewidth=1,annot=True,xticklabels=plot_labels,yticklabels=plot_labels)\n"
   ]
  },
  {
   "cell_type": "code",
   "execution_count": 18,
   "metadata": {},
   "outputs": [
    {
     "name": "stdout",
     "output_type": "stream",
     "text": [
      "\u001b[1m\n",
      "\t\t  Testing Data\n"
     ]
    },
    {
     "data": {
      "image/png": "[encoded data removed]",
      "text/plain": [
       "<Figure size 432x288 with 2 Axes>"
      ]
     },
     "metadata": {
      "needs_background": "light"
     },
     "output_type": "display_data"
    }
   ],
   "source": [
    "df_cm_test=metrics.confusion_matrix(y_pred_test, y_test, [0,1,2,3,4,5])\n",
    "plot_labels=['classical','reggae','blues','pop','hiphop','metal']\n",
    "print('\\033[1m'+\"\\n\\t\\t  Testing Data\")\n",
    "gra=sn.heatmap(df_cm_test,cmap=cmap,linecolor=\"#000000\",linewidth=1,annot=True,xticklabels=plot_labels,yticklabels=plot_labels)"
   ]
  }
 ],
 "metadata": {
  "kernelspec": {
   "display_name": "Python 3",
   "language": "python",
   "name": "python3"
  },
  "language_info": {
   "codemirror_mode": {
    "name": "ipython",
    "version": 3
   },
   "file_extension": ".py",
   "mimetype": "text/x-python",
   "name": "python",
   "nbconvert_exporter": "python",
   "pygments_lexer": "ipython3",
   "version": "3.7.3"
  }
 },
 "nbformat": 4,
 "nbformat_minor": 2
}
