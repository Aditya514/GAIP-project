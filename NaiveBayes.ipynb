{
 "cells": [
  {
   "cell_type": "code",
   "execution_count": 3,
   "metadata": {},
   "outputs": [
    {
     "name": "stdout",
     "output_type": "stream",
     "text": [
      "\n",
      "\n",
      "GaussianNB(priors=None)\n",
      "Accuracy = 0.634\n",
      "Confusion = [[78  1 10  0  0  0]\n",
      " [ 4 43  4  9 14  0]\n",
      " [ 7 13 37  0  3  5]\n",
      " [ 0 22  0 63 25  0]\n",
      " [ 1  1  0  6 19  4]\n",
      " [ 0  4 30  0 20 77]]\n",
      "\n"
     ]
    }
   ],
   "source": [
    "import numpy as np\n",
    "import pandas as pd\n",
    "\n",
    "from sklearn.model_selection import train_test_split\n",
    "from sklearn.naive_bayes import GaussianNB\n",
    "from sklearn import metrics\n",
    "\n",
    "\n",
    "\n",
    "df = pd.read_csv('project_final.csv', index_col=0)\n",
    "# print(df)\n",
    "\n",
    "df['genre'] = np.where(df['genre']==\"classical\",0,np.where(df['genre']==\"reggae\",1,np.where(df['genre']==\"blues\",2,np.where(df['genre']==\"pop\",3,np.where(df['genre']==\"hiphop\",4,5)))))\n",
    "\n",
    "independent_variables = df.drop('genre', axis=1)\n",
    "x = independent_variables.values\n",
    "y = df['genre'].values\n",
    "\n",
    "x_train, x_test, y_train, y_test = train_test_split(x, y, train_size = 500, test_size = 100, shuffle = False)\n",
    "\n",
    "gnb = GaussianNB()\n",
    "gnb.fit(x_train, y_train)\n",
    "y_pred = gnb.predict(x_train)\n",
    "predicted_class = gnb.predict(x_test)\n",
    "\n",
    "print()\n",
    "# print('Actual genre ', y_train)\n",
    "# print('Predicted genre ', y_pred)\n",
    "\n",
    "print()\n",
    "print(gnb)\n",
    "print('Accuracy = {}'.format(metrics.accuracy_score(y_pred, y_train)))\n",
    "print('Confusion = {}'.format(metrics.confusion_matrix(y_pred, y_train, [0,1,2,3,4,5])))\n",
    "print()"
   ]
  },
  {
   "cell_type": "code",
   "execution_count": 4,
   "metadata": {},
   "outputs": [],
   "source": [
    "import matplotlib.pyplot as plt\n",
    "cmap=plt.cm.Blues\n",
    "import seaborn as sn"
   ]
  },
  {
   "cell_type": "code",
   "execution_count": 8,
   "metadata": {},
   "outputs": [
    {
     "name": "stdout",
     "output_type": "stream",
     "text": [
      "\u001b[1m\n",
      "\t\t  Testing Data\n"
     ]
    },
    {
     "data": {
      "image/png": "[encoded data removed]",
      "text/plain": [
       "<Figure size 432x288 with 2 Axes>"
      ]
     },
     "metadata": {
      "needs_background": "light"
     },
     "output_type": "display_data"
    }
   ],
   "source": [
    "df_cm_test=metrics.confusion_matrix(y_pred, y_train, [0,1,2,3,4,5])\n",
    "plot_labels=['classical','reggae','blues','pop','hiphop','metal']\n",
    "print('\\033[1m'+\"\\n\\t\\t  Testing Data\")\n",
    "gra=sn.heatmap(df_cm_test,cmap=cmap,linecolor=\"#000000\",linewidth=1,annot=True,xticklabels=plot_labels,yticklabels=plot_labels)"
   ]
  }
 ],
 "metadata": {
  "kernelspec": {
   "display_name": "Python 3",
   "language": "python",
   "name": "python3"
  },
  "language_info": {
   "codemirror_mode": {
    "name": "ipython",
    "version": 3
   },
   "file_extension": ".py",
   "mimetype": "text/x-python",
   "name": "python",
   "nbconvert_exporter": "python",
   "pygments_lexer": "ipython3",
   "version": "3.7.0"
  }
 },
 "nbformat": 4,
 "nbformat_minor": 2
}
